{
 "cells": [
  {
   "cell_type": "markdown",
   "id": "37ed6fa4-c6c8-4520-9d79-a0f098fb24c9",
   "metadata": {},
   "source": [
    "Let's scrape and save the news headlines into a CSV file"
   ]
  },
  {
   "cell_type": "markdown",
   "id": "66d0ddee-991f-413b-b82b-21ae138502b5",
   "metadata": {},
   "source": [
    "Pandas:\n",
    "\n",
    "To do this we need to use Pandas library. Pandas is a powerful open-source data analysis and data manipulation library for Python. It provides data structures and functions needed to efficiently work with structured data, such as tables and time series."
   ]
  },
  {
   "cell_type": "code",
   "execution_count": 6,
   "id": "8be312d7-6478-419e-a1d1-3f258006bd44",
   "metadata": {},
   "outputs": [
    {
     "name": "stdout",
     "output_type": "stream",
     "text": [
      "Requirement already satisfied: pandas in c:\\users\\centaur\\anaconda3\\lib\\site-packages (2.2.2)\n",
      "Requirement already satisfied: numpy>=1.26.0 in c:\\users\\centaur\\anaconda3\\lib\\site-packages (from pandas) (1.26.4)\n",
      "Requirement already satisfied: python-dateutil>=2.8.2 in c:\\users\\centaur\\anaconda3\\lib\\site-packages (from pandas) (2.9.0.post0)\n",
      "Requirement already satisfied: pytz>=2020.1 in c:\\users\\centaur\\anaconda3\\lib\\site-packages (from pandas) (2024.1)\n",
      "Requirement already satisfied: tzdata>=2022.7 in c:\\users\\centaur\\anaconda3\\lib\\site-packages (from pandas) (2023.3)\n",
      "Requirement already satisfied: six>=1.5 in c:\\users\\centaur\\anaconda3\\lib\\site-packages (from python-dateutil>=2.8.2->pandas) (1.16.0)\n"
     ]
    }
   ],
   "source": [
    "# Installing pandas for CSV Handling\n",
    "\n",
    "!pip install pandas"
   ]
  },
  {
   "cell_type": "code",
   "execution_count": 28,
   "id": "47efdf21-a4d6-4ed0-9bd5-52ae8e7fabf1",
   "metadata": {},
   "outputs": [],
   "source": [
    "# Importing required libraries\n",
    "\n",
    "import requests\n",
    "from bs4 import BeautifulSoup\n",
    "import pandas as pd"
   ]
  },
  {
   "cell_type": "code",
   "execution_count": 30,
   "id": "a3c72d2a-4071-4bd7-8ae5-23780d39dc86",
   "metadata": {},
   "outputs": [],
   "source": [
    "# Define URL from where we want data\n",
    "\n",
    "url = \"https://www.bbc.com/news\""
   ]
  },
  {
   "cell_type": "code",
   "execution_count": 32,
   "id": "b50e53c8-1e39-4ede-acc9-e07ad08a7c6b",
   "metadata": {},
   "outputs": [],
   "source": [
    "# Send a request to fetch the web page\n",
    "\n",
    "responce = requests.get(url)"
   ]
  },
  {
   "cell_type": "code",
   "execution_count": 34,
   "id": "cddd8648-6f55-4285-a0c8-144bd59c4f67",
   "metadata": {},
   "outputs": [],
   "source": [
    "# Parse the HTML content using BeautifulSoup\n",
    "\n",
    "soup = BeautifulSoup(responce.text, \"html.parser\")"
   ]
  },
  {
   "cell_type": "code",
   "execution_count": 36,
   "id": "c001c13c-3c51-4321-bc59-599beadaf900",
   "metadata": {},
   "outputs": [],
   "source": [
    "# Find all news headlines class for headlines\n",
    "\n",
    "headlines = soup.find_all(\"h2\")"
   ]
  },
  {
   "cell_type": "code",
   "execution_count": 38,
   "id": "2f2c26c3-8704-44da-87c3-b6c3466d7bfb",
   "metadata": {},
   "outputs": [],
   "source": [
    "# Extract headlines and store in a list\n",
    "\n",
    "news_data = []\n",
    "for headline in headlines[:10]:          # limit to top 10 headlines\n",
    "    news_data.append({\"Headline\": headline.text.strip()})"
   ]
  },
  {
   "cell_type": "code",
   "execution_count": 40,
   "id": "dd8bd4fb-8773-45d0-8403-63723e579548",
   "metadata": {},
   "outputs": [],
   "source": [
    "# Covnvert the list to a Pandas Dataframe\n",
    "df = pd.DataFrame(news_data)"
   ]
  },
  {
   "cell_type": "code",
   "execution_count": 42,
   "id": "0cbebd96-5acd-4df8-8840-1bea03204a43",
   "metadata": {},
   "outputs": [
    {
     "data": {
      "text/html": [
       "<div>\n",
       "<style scoped>\n",
       "    .dataframe tbody tr th:only-of-type {\n",
       "        vertical-align: middle;\n",
       "    }\n",
       "\n",
       "    .dataframe tbody tr th {\n",
       "        vertical-align: top;\n",
       "    }\n",
       "\n",
       "    .dataframe thead th {\n",
       "        text-align: right;\n",
       "    }\n",
       "</style>\n",
       "<table border=\"1\" class=\"dataframe\">\n",
       "  <thead>\n",
       "    <tr style=\"text-align: right;\">\n",
       "      <th></th>\n",
       "      <th>Headline</th>\n",
       "    </tr>\n",
       "  </thead>\n",
       "  <tbody>\n",
       "    <tr>\n",
       "      <th>0</th>\n",
       "      <td>Russia won't accept Nato troops in Ukraine, La...</td>\n",
       "    </tr>\n",
       "    <tr>\n",
       "      <th>1</th>\n",
       "      <td>Who was at the table at US-Russia talks in Sau...</td>\n",
       "    </tr>\n",
       "    <tr>\n",
       "      <th>2</th>\n",
       "      <td>'Everyone must go': New Zealand's tourism driv...</td>\n",
       "    </tr>\n",
       "    <tr>\n",
       "      <th>3</th>\n",
       "      <td>Hamas says it will return bodies of four hosta...</td>\n",
       "    </tr>\n",
       "    <tr>\n",
       "      <th>4</th>\n",
       "      <td>Japan to increase reliance on nuclear energy i...</td>\n",
       "    </tr>\n",
       "    <tr>\n",
       "      <th>5</th>\n",
       "      <td>Who was at the table at US-Russia talks in Sau...</td>\n",
       "    </tr>\n",
       "    <tr>\n",
       "      <th>6</th>\n",
       "      <td>Watch: Toronto plane crash analysed by aviatio...</td>\n",
       "    </tr>\n",
       "    <tr>\n",
       "      <th>7</th>\n",
       "      <td>Rebels leave families devastated in wake of DR...</td>\n",
       "    </tr>\n",
       "    <tr>\n",
       "      <th>8</th>\n",
       "      <td>'Died for stealing chocolate': Pakistan anger ...</td>\n",
       "    </tr>\n",
       "    <tr>\n",
       "      <th>9</th>\n",
       "      <td>'Everyone must go': New Zealand's tourism driv...</td>\n",
       "    </tr>\n",
       "  </tbody>\n",
       "</table>\n",
       "</div>"
      ],
      "text/plain": [
       "                                            Headline\n",
       "0  Russia won't accept Nato troops in Ukraine, La...\n",
       "1  Who was at the table at US-Russia talks in Sau...\n",
       "2  'Everyone must go': New Zealand's tourism driv...\n",
       "3  Hamas says it will return bodies of four hosta...\n",
       "4  Japan to increase reliance on nuclear energy i...\n",
       "5  Who was at the table at US-Russia talks in Sau...\n",
       "6  Watch: Toronto plane crash analysed by aviatio...\n",
       "7  Rebels leave families devastated in wake of DR...\n",
       "8  'Died for stealing chocolate': Pakistan anger ...\n",
       "9  'Everyone must go': New Zealand's tourism driv..."
      ]
     },
     "execution_count": 42,
     "metadata": {},
     "output_type": "execute_result"
    }
   ],
   "source": [
    "df"
   ]
  },
  {
   "cell_type": "markdown",
   "id": "0ac329e7-9c7d-4a26-9353-35495478ab23",
   "metadata": {},
   "source": [
    "Let's Save this news in CSV file"
   ]
  },
  {
   "cell_type": "code",
   "execution_count": 48,
   "id": "70bcfc21-d4fe-4b05-b1cb-5045d5b6d371",
   "metadata": {},
   "outputs": [
    {
     "name": "stdout",
     "output_type": "stream",
     "text": [
      "News Headlines saved to 'BBC_news_headlines.csv'.\n"
     ]
    }
   ],
   "source": [
    "# Save the DataFrame to a CSV file\n",
    "df.to_csv(\"bbc_news_headlines.csv\", index=False)\n",
    "print(\"News Headlines saved to 'BBC_news_headlines.csv'.\")"
   ]
  },
  {
   "cell_type": "markdown",
   "id": "f1d6f697-6bb6-44c7-9a49-25d1abd33661",
   "metadata": {},
   "source": [
    "Check Your CSV File:\n",
    "Once you run the script, check your Jupyter Notebook's working directory for the file bbc_news_headlines.csv. You can open it with Excel, Google Sheets, or Pandas."
   ]
  },
  {
   "cell_type": "markdown",
   "id": "f383c2da-f4a1-4fee-809d-886b7afd3036",
   "metadata": {},
   "source": [
    "Bonus:\n",
    "Read the CSV file in Pandas"
   ]
  },
  {
   "cell_type": "code",
   "execution_count": null,
   "id": "1deae884-a37f-4c6b-9150-af8d46a1347c",
   "metadata": {},
   "outputs": [],
   "source": [
    "sd = pd.read_csv(\"bbc_news\")"
   ]
  }
 ],
 "metadata": {
  "kernelspec": {
   "display_name": "Python 3 (ipykernel)",
   "language": "python",
   "name": "python3"
  },
  "language_info": {
   "codemirror_mode": {
    "name": "ipython",
    "version": 3
   },
   "file_extension": ".py",
   "mimetype": "text/x-python",
   "name": "python",
   "nbconvert_exporter": "python",
   "pygments_lexer": "ipython3",
   "version": "3.12.7"
  }
 },
 "nbformat": 4,
 "nbformat_minor": 5
}
