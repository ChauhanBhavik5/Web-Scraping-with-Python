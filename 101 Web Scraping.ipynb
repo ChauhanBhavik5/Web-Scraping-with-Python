{
 "cells": [
  {
   "cell_type": "markdown",
   "id": "c4666bd6-3f98-45b0-8f97-df6b7bac2c62",
   "metadata": {},
   "source": [
    "Web Scraping Tutorial"
   ]
  },
  {
   "cell_type": "markdown",
   "id": "400604b4-074f-4155-ad53-3b58761dee66",
   "metadata": {},
   "source": [
    "Install Required Libraries"
   ]
  },
  {
   "cell_type": "code",
   "execution_count": 4,
   "id": "686b18fc-f986-45dc-9b8f-fea91c56002b",
   "metadata": {},
   "outputs": [
    {
     "name": "stdout",
     "output_type": "stream",
     "text": [
      "Requirement already satisfied: requests in c:\\users\\centaur\\anaconda3\\lib\\site-packages (2.32.3)\n",
      "Requirement already satisfied: beautifulsoup4 in c:\\users\\centaur\\anaconda3\\lib\\site-packages (4.12.3)\n",
      "Requirement already satisfied: charset-normalizer<4,>=2 in c:\\users\\centaur\\anaconda3\\lib\\site-packages (from requests) (3.3.2)\n",
      "Requirement already satisfied: idna<4,>=2.5 in c:\\users\\centaur\\anaconda3\\lib\\site-packages (from requests) (3.7)\n",
      "Requirement already satisfied: urllib3<3,>=1.21.1 in c:\\users\\centaur\\anaconda3\\lib\\site-packages (from requests) (2.2.3)\n",
      "Requirement already satisfied: certifi>=2017.4.17 in c:\\users\\centaur\\anaconda3\\lib\\site-packages (from requests) (2024.8.30)\n",
      "Requirement already satisfied: soupsieve>1.2 in c:\\users\\centaur\\anaconda3\\lib\\site-packages (from beautifulsoup4) (2.5)\n"
     ]
    }
   ],
   "source": [
    "!pip install requests beautifulsoup4"
   ]
  },
  {
   "cell_type": "markdown",
   "id": "efd33352-d6a0-4805-8af2-dd1d7be1224b",
   "metadata": {},
   "source": [
    "Basic web scraping with requests and beautifulsoup"
   ]
  },
  {
   "cell_type": "code",
   "execution_count": 28,
   "id": "218a2922-7ae6-4993-8467-445ae9a1046e",
   "metadata": {},
   "outputs": [],
   "source": [
    "# Step 1: importing required libraries\n",
    "import requests\n",
    "from bs4 import BeautifulSoup"
   ]
  },
  {
   "cell_type": "code",
   "execution_count": 30,
   "id": "b1cc27b1-27cb-4414-8d11-79420db36b72",
   "metadata": {},
   "outputs": [],
   "source": [
    "# Step 2: URL to scrape\n",
    "url = \"http://quotes.toscrape.com/\""
   ]
  },
  {
   "cell_type": "code",
   "execution_count": 32,
   "id": "7ce129a2-080d-422e-9895-e8af1ceff04b",
   "metadata": {},
   "outputs": [],
   "source": [
    "# Step 3: Send request to fetcch the web page\n",
    "response = requests.get(url)"
   ]
  },
  {
   "cell_type": "code",
   "execution_count": 34,
   "id": "ae07dc6c-f977-4732-a36f-775722bc03b7",
   "metadata": {},
   "outputs": [],
   "source": [
    "# Step 4: Parse the HTML content using Beautifulsoup\n",
    "soup = BeautifulSoup(response.text, \"html.parser\")"
   ]
  },
  {
   "cell_type": "code",
   "execution_count": 36,
   "id": "ee43e70d-c033-4d6e-a724-643e510f2e44",
   "metadata": {},
   "outputs": [
    {
     "name": "stdout",
     "output_type": "stream",
     "text": [
      "1.“The world as we have created it is a process of our thinking. It cannot be changed without changing our thinking.”\n",
      "2.“It is our choices, Harry, that show what we truly are, far more than our abilities.”\n",
      "3.“There are only two ways to live your life. One is as though nothing is a miracle. The other is as though everything is a miracle.”\n",
      "4.“The person, be it gentleman or lady, who has not pleasure in a good novel, must be intolerably stupid.”\n",
      "5.“Imperfection is beauty, madness is genius and it's better to be absolutely ridiculous than absolutely boring.”\n",
      "6.“Try not to become a man of success. Rather become a man of value.”\n",
      "7.“It is better to be hated for what you are than to be loved for what you are not.”\n",
      "8.“I have not failed. I've just found 10,000 ways that won't work.”\n",
      "9.“A woman is like a tea bag; you never know how strong it is until it's in hot water.”\n",
      "10.“A day without sunshine is like, you know, night.”\n"
     ]
    }
   ],
   "source": [
    "# Step 5: Extract and print all quotes\n",
    "quotes = soup.find_all(\"span\", class_=\"text\")\n",
    "\n",
    "for i, quote in enumerate(quotes, start=1):\n",
    "    print(f\"{i}.{quote.text}\")"
   ]
  },
  {
   "cell_type": "code",
   "execution_count": null,
   "id": "89fae67a-4cee-407d-8bc7-7fc399765160",
   "metadata": {},
   "outputs": [],
   "source": [
    " "
   ]
  }
 ],
 "metadata": {
  "kernelspec": {
   "display_name": "Python 3 (ipykernel)",
   "language": "python",
   "name": "python3"
  },
  "language_info": {
   "codemirror_mode": {
    "name": "ipython",
    "version": 3
   },
   "file_extension": ".py",
   "mimetype": "text/x-python",
   "name": "python",
   "nbconvert_exporter": "python",
   "pygments_lexer": "ipython3",
   "version": "3.12.7"
  }
 },
 "nbformat": 4,
 "nbformat_minor": 5
}
