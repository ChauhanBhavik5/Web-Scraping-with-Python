{
 "cells": [
  {
   "cell_type": "markdown",
   "id": "5e895b95-30cd-42b4-ac2b-417706fb0876",
   "metadata": {},
   "source": [
    "Scraping News Headlines from BBC News."
   ]
  },
  {
   "cell_type": "code",
   "execution_count": 15,
   "id": "a662fe06-fb7e-44e4-af30-a985cf1ce9db",
   "metadata": {},
   "outputs": [],
   "source": [
    "# Step 1: import required libraries\n",
    "\n",
    "import requests\n",
    "from bs4 import BeautifulSoup"
   ]
  },
  {
   "cell_type": "code",
   "execution_count": 17,
   "id": "6305432a-53e1-426c-aacb-6fce2b3c44ef",
   "metadata": {},
   "outputs": [],
   "source": [
    "# Step 2: Define the URL of BBC News\n",
    "\n",
    "url = \"https://www.bbc.com/news\""
   ]
  },
  {
   "cell_type": "code",
   "execution_count": 19,
   "id": "59f10c2a-9b6c-4fa9-8535-cf137b0996fc",
   "metadata": {},
   "outputs": [],
   "source": [
    "# Step 3: Send a request to fetch the web page\n",
    "\n",
    "responce = requests.get(url)"
   ]
  },
  {
   "cell_type": "code",
   "execution_count": 20,
   "id": "89a3c15f-93f2-4375-ad43-f63905f3a55c",
   "metadata": {},
   "outputs": [],
   "source": [
    "# Step 4: Parse the HTML content using BeautifulSoup\n",
    "\n",
    "soup = BeautifulSoup(responce.text, \"html.parser\")"
   ]
  },
  {
   "cell_type": "code",
   "execution_count": 23,
   "id": "43932245-a484-46b9-8385-562e170cc4da",
   "metadata": {},
   "outputs": [],
   "source": [
    "# Find all news headlines (BBC uses 'gs-c-promo-heading' class for headlines)\n",
    "\n",
    "headlines = soup.find_all(\"h2\")\n"
   ]
  },
  {
   "cell_type": "code",
   "execution_count": 25,
   "id": "b9299622-3d07-419f-8e23-fed5a162b293",
   "metadata": {},
   "outputs": [
    {
     "name": "stdout",
     "output_type": "stream",
     "text": [
      "Top 10 BBC News Headlines: \n",
      "\n",
      "1.Russia won't accept Nato troops in Ukraine, Lavrov says after talks with US\n",
      "2.Who was at the table at US-Russia talks in Saudi Arabia?\n",
      "3.'Everyone must go': New Zealand's tourism drive draws ire\n",
      "4.Hamas says it will return bodies of four hostages including Bibas family\n",
      "5.Japan to increase reliance on nuclear energy in post-Fukushima shift\n",
      "6.Who was at the table at US-Russia talks in Saudi Arabia?\n",
      "7.Watch: Toronto plane crash analysed by aviation experts\n",
      "8.Rebels leave families devastated in wake of DR Congo advance\n",
      "9.'Died for stealing chocolate': Pakistan anger over death of child maid\n",
      "10.'Everyone must go': New Zealand's tourism drive draws ire\n"
     ]
    }
   ],
   "source": [
    "print(\"Top 10 BBC News Headlines: \\n\")\n",
    "\n",
    "for i, headline in enumerate(headlines[:10], start=1):\n",
    "    print(f\"{i}.{headline.text.strip()}\")"
   ]
  }
 ],
 "metadata": {
  "kernelspec": {
   "display_name": "Python 3 (ipykernel)",
   "language": "python",
   "name": "python3"
  },
  "language_info": {
   "codemirror_mode": {
    "name": "ipython",
    "version": 3
   },
   "file_extension": ".py",
   "mimetype": "text/x-python",
   "name": "python",
   "nbconvert_exporter": "python",
   "pygments_lexer": "ipython3",
   "version": "3.12.7"
  }
 },
 "nbformat": 4,
 "nbformat_minor": 5
}
